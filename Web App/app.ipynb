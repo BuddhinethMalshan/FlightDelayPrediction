{
 "cells": [
  {
   "cell_type": "code",
   "execution_count": 1,
   "id": "879cf09c",
   "metadata": {
    "scrolled": true
   },
   "outputs": [
    {
     "name": "stdout",
     "output_type": "stream",
     "text": [
      " * Serving Flask app \"__main__\" (lazy loading)\n",
      " * Environment: production\n",
      "   WARNING: This is a development server. Do not use it in a production deployment.\n",
      "   Use a production WSGI server instead.\n",
      " * Debug mode: off\n"
     ]
    },
    {
     "name": "stderr",
     "output_type": "stream",
     "text": [
      " * Running on http://127.0.0.1:5000/ (Press CTRL+C to quit)\n",
      "127.0.0.1 - - [01/Nov/2022 19:06:15] \"\u001b[37mGET / HTTP/1.1\u001b[0m\" 200 -\n",
      "127.0.0.1 - - [01/Nov/2022 19:06:15] \"\u001b[33mGET /Home_files/css HTTP/1.1\u001b[0m\" 404 -\n",
      "127.0.0.1 - - [01/Nov/2022 19:06:15] \"\u001b[33mGET /Home_files/jquery.js.download HTTP/1.1\u001b[0m\" 404 -\n",
      "127.0.0.1 - - [01/Nov/2022 19:06:15] \"\u001b[33mGET /Home_files/nicepage.js.download HTTP/1.1\u001b[0m\" 404 -\n",
      "127.0.0.1 - - [01/Nov/2022 19:06:59] \"\u001b[37mPOST /result HTTP/1.1\u001b[0m\" 200 -\n",
      "127.0.0.1 - - [01/Nov/2022 19:06:59] \"\u001b[33mGET /Home_files/css HTTP/1.1\u001b[0m\" 404 -\n",
      "127.0.0.1 - - [01/Nov/2022 19:06:59] \"\u001b[33mGET /Home_files/jquery.js.download HTTP/1.1\u001b[0m\" 404 -\n",
      "127.0.0.1 - - [01/Nov/2022 19:06:59] \"\u001b[33mGET /Home_files/nicepage.js.download HTTP/1.1\u001b[0m\" 404 -\n",
      "127.0.0.1 - - [01/Nov/2022 19:07:11] \"\u001b[37mGET / HTTP/1.1\u001b[0m\" 200 -\n",
      "127.0.0.1 - - [01/Nov/2022 19:07:11] \"\u001b[33mGET /Home_files/css HTTP/1.1\u001b[0m\" 404 -\n",
      "127.0.0.1 - - [01/Nov/2022 19:07:11] \"\u001b[33mGET /Home_files/jquery.js.download HTTP/1.1\u001b[0m\" 404 -\n",
      "127.0.0.1 - - [01/Nov/2022 19:07:11] \"\u001b[33mGET /Home_files/nicepage.js.download HTTP/1.1\u001b[0m\" 404 -\n"
     ]
    }
   ],
   "source": [
    "from flask import Flask, render_template,request,jsonify, url_for\n",
    "import pickle\n",
    "import numpy as np\n",
    "\n",
    "\n",
    "app = Flask(__name__)\n",
    "\n",
    "@app.route('/')\n",
    "def home():\n",
    "     return render_template('index.html')\n",
    "\n",
    "    \n",
    "@app.route('/result', methods=['POST','GET'])\n",
    "def result():\n",
    "    if request.method == 'POST':\n",
    "        \n",
    "        z_table = pickle.load(open('z_table.pkl','rb'))\n",
    "    \n",
    "        z_table['PLANE_AGE'] = request.form['PLANE_AGE']\n",
    "        z_table['LATITUDE'] = request.form['LATITUDE']\n",
    "        z_table['LONGITUDE'] = request.form['LONGITUDE']\n",
    "        z_table['AIRPORT_FLIGHTS_MONTH'] = request.form['AIRPORT_FLIGHTS_MONTH']\n",
    "        z_table['CONCURRENT_FLIGHTS'] = request.form['CONCURRENT_FLIGHTS']\n",
    "        z_table['AIRLINE_AIRPORT_FLIGHTS_MONTH']=request.form['AIRLINE_AIRPORT_FLIGHTS_MONTH']\n",
    "        z_table['AVG_MONTHLY_PASS_AIRPORT']=request.form['AVG_MONTHLY_PASS_AIRPORT']\n",
    "        z_table['PRCP']=request.form['PRCP']\n",
    "        z_table['TMAX']=request.form['TMAX']\n",
    "        z_table['AWND']=request.form['AWND']\n",
    "        \n",
    "        dist = request.form['DISTANCE_GROUP']\n",
    "        seg = request.form['SEGMENT_NUMBER']\n",
    "        z_table[dist] = 1\n",
    "        z_table[seg] = 1\n",
    "\n",
    "\n",
    "        z_table = z_table.astype('float')\n",
    "        \n",
    "        model = pickle.load(open('model.pkl','rb'))\n",
    "\n",
    "        result = model.predict(z_table)[0]\n",
    "        \n",
    "        if result == 1:\n",
    "            output = \"Flight may delay more than 15 min\"\n",
    "            \n",
    "        else:\n",
    "            output = \"Flight may not delay more than 15 min\"\n",
    "\n",
    "        return render_template(\"index1.html\",result=output,dist=dist,seg=seg)\n",
    "\n",
    "if __name__ == \"__main__\":\n",
    "    #app.debug = True\n",
    "    app.run()"
   ]
  },
  {
   "cell_type": "code",
   "execution_count": null,
   "id": "82f2b64f",
   "metadata": {},
   "outputs": [],
   "source": []
  }
 ],
 "metadata": {
  "kernelspec": {
   "display_name": "Python 3",
   "language": "python",
   "name": "python3"
  },
  "language_info": {
   "codemirror_mode": {
    "name": "ipython",
    "version": 3
   },
   "file_extension": ".py",
   "mimetype": "text/x-python",
   "name": "python",
   "nbconvert_exporter": "python",
   "pygments_lexer": "ipython3",
   "version": "3.8.8"
  }
 },
 "nbformat": 4,
 "nbformat_minor": 5
}
